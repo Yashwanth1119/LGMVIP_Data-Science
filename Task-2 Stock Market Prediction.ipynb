{
 "cells": [
  {
   "cell_type": "markdown",
   "metadata": {},
   "source": [
    "### T V V Yashwanth\n",
    "Data Science Intern\n",
    "\n",
    "Internship month: July\n",
    "\n",
    "Task 2: Stock Market Prediction And Forecasting Using Stacked LSTM"
   ]
  },
  {
   "cell_type": "code",
   "execution_count": null,
   "metadata": {},
   "outputs": [],
   "source": [
    "#importing the libraries\n",
    "import numpy as np\n",
    "import matplotlib.pyplot as plt\n",
    "import pandas as pd\n",
    "import datetime"
   ]
  },
  {
   "cell_type": "code",
   "execution_count": 5,
   "metadata": {},
   "outputs": [],
   "source": [
    "#importing dataset\n",
    "dataset = pd.read_csv(\"https://raw.githubusercontent.com/mwitiderrick/stockprice/master/NSE-TATAGLOBAL.csv\")"
   ]
  },
  {
   "cell_type": "code",
   "execution_count": 7,
   "metadata": {},
   "outputs": [
    {
     "data": {
      "text/html": [
       "<div>\n",
       "<style scoped>\n",
       "    .dataframe tbody tr th:only-of-type {\n",
       "        vertical-align: middle;\n",
       "    }\n",
       "\n",
       "    .dataframe tbody tr th {\n",
       "        vertical-align: top;\n",
       "    }\n",
       "\n",
       "    .dataframe thead th {\n",
       "        text-align: right;\n",
       "    }\n",
       "</style>\n",
       "<table border=\"1\" class=\"dataframe\">\n",
       "  <thead>\n",
       "    <tr style=\"text-align: right;\">\n",
       "      <th></th>\n",
       "      <th>Date</th>\n",
       "      <th>Open</th>\n",
       "      <th>High</th>\n",
       "      <th>Low</th>\n",
       "      <th>Last</th>\n",
       "      <th>Close</th>\n",
       "      <th>Total Trade Quantity</th>\n",
       "      <th>Turnover (Lacs)</th>\n",
       "    </tr>\n",
       "  </thead>\n",
       "  <tbody>\n",
       "    <tr>\n",
       "      <th>0</th>\n",
       "      <td>2018-09-28</td>\n",
       "      <td>234.05</td>\n",
       "      <td>235.95</td>\n",
       "      <td>230.20</td>\n",
       "      <td>233.50</td>\n",
       "      <td>233.75</td>\n",
       "      <td>3069914</td>\n",
       "      <td>7162.35</td>\n",
       "    </tr>\n",
       "    <tr>\n",
       "      <th>1</th>\n",
       "      <td>2018-09-27</td>\n",
       "      <td>234.55</td>\n",
       "      <td>236.80</td>\n",
       "      <td>231.10</td>\n",
       "      <td>233.80</td>\n",
       "      <td>233.25</td>\n",
       "      <td>5082859</td>\n",
       "      <td>11859.95</td>\n",
       "    </tr>\n",
       "    <tr>\n",
       "      <th>2</th>\n",
       "      <td>2018-09-26</td>\n",
       "      <td>240.00</td>\n",
       "      <td>240.00</td>\n",
       "      <td>232.50</td>\n",
       "      <td>235.00</td>\n",
       "      <td>234.25</td>\n",
       "      <td>2240909</td>\n",
       "      <td>5248.60</td>\n",
       "    </tr>\n",
       "    <tr>\n",
       "      <th>3</th>\n",
       "      <td>2018-09-25</td>\n",
       "      <td>233.30</td>\n",
       "      <td>236.75</td>\n",
       "      <td>232.00</td>\n",
       "      <td>236.25</td>\n",
       "      <td>236.10</td>\n",
       "      <td>2349368</td>\n",
       "      <td>5503.90</td>\n",
       "    </tr>\n",
       "    <tr>\n",
       "      <th>4</th>\n",
       "      <td>2018-09-24</td>\n",
       "      <td>233.55</td>\n",
       "      <td>239.20</td>\n",
       "      <td>230.75</td>\n",
       "      <td>234.00</td>\n",
       "      <td>233.30</td>\n",
       "      <td>3423509</td>\n",
       "      <td>7999.55</td>\n",
       "    </tr>\n",
       "  </tbody>\n",
       "</table>\n",
       "</div>"
      ],
      "text/plain": [
       "         Date    Open    High     Low    Last   Close  Total Trade Quantity  \\\n",
       "0  2018-09-28  234.05  235.95  230.20  233.50  233.75               3069914   \n",
       "1  2018-09-27  234.55  236.80  231.10  233.80  233.25               5082859   \n",
       "2  2018-09-26  240.00  240.00  232.50  235.00  234.25               2240909   \n",
       "3  2018-09-25  233.30  236.75  232.00  236.25  236.10               2349368   \n",
       "4  2018-09-24  233.55  239.20  230.75  234.00  233.30               3423509   \n",
       "\n",
       "   Turnover (Lacs)  \n",
       "0          7162.35  \n",
       "1         11859.95  \n",
       "2          5248.60  \n",
       "3          5503.90  \n",
       "4          7999.55  "
      ]
     },
     "execution_count": 7,
     "metadata": {},
     "output_type": "execute_result"
    }
   ],
   "source": [
    "##first 5 records of our dataset will get printed\n",
    "dataset.head()"
   ]
  },
  {
   "cell_type": "code",
   "execution_count": 9,
   "metadata": {},
   "outputs": [
    {
     "data": {
      "text/plain": [
       "Date                    False\n",
       "Open                    False\n",
       "High                    False\n",
       "Low                     False\n",
       "Last                    False\n",
       "Close                   False\n",
       "Total Trade Quantity    False\n",
       "Turnover (Lacs)         False\n",
       "dtype: bool"
      ]
     },
     "execution_count": 9,
     "metadata": {},
     "output_type": "execute_result"
    }
   ],
   "source": [
    "##'isnull()\" will returns the number of missing values in the data set\n",
    "dataset.isna().any()"
   ]
  },
  {
   "cell_type": "code",
   "execution_count": 11,
   "metadata": {},
   "outputs": [
    {
     "name": "stdout",
     "output_type": "stream",
     "text": [
      "<class 'pandas.core.frame.DataFrame'>\n",
      "RangeIndex: 2035 entries, 0 to 2034\n",
      "Data columns (total 8 columns):\n",
      " #   Column                Non-Null Count  Dtype  \n",
      "---  ------                --------------  -----  \n",
      " 0   Date                  2035 non-null   object \n",
      " 1   Open                  2035 non-null   float64\n",
      " 2   High                  2035 non-null   float64\n",
      " 3   Low                   2035 non-null   float64\n",
      " 4   Last                  2035 non-null   float64\n",
      " 5   Close                 2035 non-null   float64\n",
      " 6   Total Trade Quantity  2035 non-null   int64  \n",
      " 7   Turnover (Lacs)       2035 non-null   float64\n",
      "dtypes: float64(6), int64(1), object(1)\n",
      "memory usage: 127.3+ KB\n"
     ]
    }
   ],
   "source": [
    "#information of dataset\n",
    "dataset.info()"
   ]
  },
  {
   "cell_type": "code",
   "execution_count": 13,
   "metadata": {},
   "outputs": [
    {
     "data": {
      "text/plain": [
       "<AxesSubplot:>"
      ]
     },
     "execution_count": 13,
     "metadata": {},
     "output_type": "execute_result"
    },
    {
     "data": {
      "image/png": "[encoded data removed]",
      "text/plain": [
       "<Figure size 720x432 with 1 Axes>"
      ]
     },
     "metadata": {
      "needs_background": "light"
     },
     "output_type": "display_data"
    }
   ],
   "source": [
    "#plotting our data\n",
    "dataset['Open'].plot(figsize=(10,6))"
   ]
  },
  {
   "cell_type": "code",
   "execution_count": 15,
   "metadata": {},
   "outputs": [
    {
     "data": {
      "text/html": [
       "<div>\n",
       "<style scoped>\n",
       "    .dataframe tbody tr th:only-of-type {\n",
       "        vertical-align: middle;\n",
       "    }\n",
       "\n",
       "    .dataframe tbody tr th {\n",
       "        vertical-align: top;\n",
       "    }\n",
       "\n",
       "    .dataframe thead th {\n",
       "        text-align: right;\n",
       "    }\n",
       "</style>\n",
       "<table border=\"1\" class=\"dataframe\">\n",
       "  <thead>\n",
       "    <tr style=\"text-align: right;\">\n",
       "      <th></th>\n",
       "      <th>Open</th>\n",
       "      <th>High</th>\n",
       "      <th>Low</th>\n",
       "      <th>Last</th>\n",
       "      <th>Close</th>\n",
       "      <th>Total Trade Quantity</th>\n",
       "      <th>Turnover (Lacs)</th>\n",
       "    </tr>\n",
       "  </thead>\n",
       "  <tbody>\n",
       "    <tr>\n",
       "      <th>0</th>\n",
       "      <td>NaN</td>\n",
       "      <td>NaN</td>\n",
       "      <td>NaN</td>\n",
       "      <td>NaN</td>\n",
       "      <td>NaN</td>\n",
       "      <td>NaN</td>\n",
       "      <td>NaN</td>\n",
       "    </tr>\n",
       "    <tr>\n",
       "      <th>1</th>\n",
       "      <td>NaN</td>\n",
       "      <td>NaN</td>\n",
       "      <td>NaN</td>\n",
       "      <td>NaN</td>\n",
       "      <td>NaN</td>\n",
       "      <td>NaN</td>\n",
       "      <td>NaN</td>\n",
       "    </tr>\n",
       "    <tr>\n",
       "      <th>2</th>\n",
       "      <td>NaN</td>\n",
       "      <td>NaN</td>\n",
       "      <td>NaN</td>\n",
       "      <td>NaN</td>\n",
       "      <td>NaN</td>\n",
       "      <td>NaN</td>\n",
       "      <td>NaN</td>\n",
       "    </tr>\n",
       "    <tr>\n",
       "      <th>3</th>\n",
       "      <td>NaN</td>\n",
       "      <td>NaN</td>\n",
       "      <td>NaN</td>\n",
       "      <td>NaN</td>\n",
       "      <td>NaN</td>\n",
       "      <td>NaN</td>\n",
       "      <td>NaN</td>\n",
       "    </tr>\n",
       "    <tr>\n",
       "      <th>4</th>\n",
       "      <td>NaN</td>\n",
       "      <td>NaN</td>\n",
       "      <td>NaN</td>\n",
       "      <td>NaN</td>\n",
       "      <td>NaN</td>\n",
       "      <td>NaN</td>\n",
       "      <td>NaN</td>\n",
       "    </tr>\n",
       "    <tr>\n",
       "      <th>5</th>\n",
       "      <td>NaN</td>\n",
       "      <td>NaN</td>\n",
       "      <td>NaN</td>\n",
       "      <td>NaN</td>\n",
       "      <td>NaN</td>\n",
       "      <td>NaN</td>\n",
       "      <td>NaN</td>\n",
       "    </tr>\n",
       "    <tr>\n",
       "      <th>6</th>\n",
       "      <td>235.200000</td>\n",
       "      <td>237.557143</td>\n",
       "      <td>231.135714</td>\n",
       "      <td>234.414286</td>\n",
       "      <td>234.307143</td>\n",
       "      <td>3.274848e+06</td>\n",
       "      <td>7652.388571</td>\n",
       "    </tr>\n",
       "    <tr>\n",
       "      <th>7</th>\n",
       "      <td>235.750000</td>\n",
       "      <td>238.028571</td>\n",
       "      <td>231.607143</td>\n",
       "      <td>234.700000</td>\n",
       "      <td>234.492857</td>\n",
       "      <td>3.209831e+06</td>\n",
       "      <td>7509.724286</td>\n",
       "    </tr>\n",
       "    <tr>\n",
       "      <th>8</th>\n",
       "      <td>235.550000</td>\n",
       "      <td>238.200000</td>\n",
       "      <td>231.485714</td>\n",
       "      <td>235.071429</td>\n",
       "      <td>234.971429</td>\n",
       "      <td>2.936693e+06</td>\n",
       "      <td>6879.075714</td>\n",
       "    </tr>\n",
       "    <tr>\n",
       "      <th>9</th>\n",
       "      <td>233.185714</td>\n",
       "      <td>237.728571</td>\n",
       "      <td>230.171429</td>\n",
       "      <td>234.928571</td>\n",
       "      <td>234.928571</td>\n",
       "      <td>3.527693e+06</td>\n",
       "      <td>8241.347143</td>\n",
       "    </tr>\n",
       "    <tr>\n",
       "      <th>10</th>\n",
       "      <td>230.764286</td>\n",
       "      <td>235.864286</td>\n",
       "      <td>227.407143</td>\n",
       "      <td>232.842857</td>\n",
       "      <td>233.007143</td>\n",
       "      <td>3.845060e+06</td>\n",
       "      <td>8883.934286</td>\n",
       "    </tr>\n",
       "    <tr>\n",
       "      <th>11</th>\n",
       "      <td>229.185714</td>\n",
       "      <td>233.892857</td>\n",
       "      <td>225.135714</td>\n",
       "      <td>230.321429</td>\n",
       "      <td>230.535714</td>\n",
       "      <td>3.857272e+06</td>\n",
       "      <td>8846.257143</td>\n",
       "    </tr>\n",
       "    <tr>\n",
       "      <th>12</th>\n",
       "      <td>227.400000</td>\n",
       "      <td>233.628571</td>\n",
       "      <td>224.092857</td>\n",
       "      <td>228.507143</td>\n",
       "      <td>228.735714</td>\n",
       "      <td>4.159956e+06</td>\n",
       "      <td>9494.928571</td>\n",
       "    </tr>\n",
       "    <tr>\n",
       "      <th>13</th>\n",
       "      <td>225.264286</td>\n",
       "      <td>231.814286</td>\n",
       "      <td>222.042857</td>\n",
       "      <td>226.871429</td>\n",
       "      <td>227.028571</td>\n",
       "      <td>4.141448e+06</td>\n",
       "      <td>9429.222857</td>\n",
       "    </tr>\n",
       "    <tr>\n",
       "      <th>14</th>\n",
       "      <td>223.278571</td>\n",
       "      <td>229.778571</td>\n",
       "      <td>219.857143</td>\n",
       "      <td>224.792857</td>\n",
       "      <td>225.028571</td>\n",
       "      <td>4.016310e+06</td>\n",
       "      <td>9099.654286</td>\n",
       "    </tr>\n",
       "    <tr>\n",
       "      <th>15</th>\n",
       "      <td>221.685714</td>\n",
       "      <td>227.864286</td>\n",
       "      <td>217.707143</td>\n",
       "      <td>222.750000</td>\n",
       "      <td>223.000000</td>\n",
       "      <td>3.995196e+06</td>\n",
       "      <td>8989.585714</td>\n",
       "    </tr>\n",
       "    <tr>\n",
       "      <th>16</th>\n",
       "      <td>223.792857</td>\n",
       "      <td>228.078571</td>\n",
       "      <td>217.607143</td>\n",
       "      <td>221.242857</td>\n",
       "      <td>221.535714</td>\n",
       "      <td>3.591903e+06</td>\n",
       "      <td>8043.774286</td>\n",
       "    </tr>\n",
       "    <tr>\n",
       "      <th>17</th>\n",
       "      <td>226.600000</td>\n",
       "      <td>230.914286</td>\n",
       "      <td>220.807143</td>\n",
       "      <td>223.414286</td>\n",
       "      <td>223.542857</td>\n",
       "      <td>3.687891e+06</td>\n",
       "      <td>8406.114286</td>\n",
       "    </tr>\n",
       "    <tr>\n",
       "      <th>18</th>\n",
       "      <td>228.671429</td>\n",
       "      <td>232.964286</td>\n",
       "      <td>223.392857</td>\n",
       "      <td>226.028571</td>\n",
       "      <td>226.157143</td>\n",
       "      <td>3.665725e+06</td>\n",
       "      <td>8431.457143</td>\n",
       "    </tr>\n",
       "    <tr>\n",
       "      <th>19</th>\n",
       "      <td>230.507143</td>\n",
       "      <td>233.271429</td>\n",
       "      <td>225.028571</td>\n",
       "      <td>228.350000</td>\n",
       "      <td>228.157143</td>\n",
       "      <td>2.866757e+06</td>\n",
       "      <td>6629.497143</td>\n",
       "    </tr>\n",
       "  </tbody>\n",
       "</table>\n",
       "</div>"
      ],
      "text/plain": [
       "          Open        High         Low        Last       Close  \\\n",
       "0          NaN         NaN         NaN         NaN         NaN   \n",
       "1          NaN         NaN         NaN         NaN         NaN   \n",
       "2          NaN         NaN         NaN         NaN         NaN   \n",
       "3          NaN         NaN         NaN         NaN         NaN   \n",
       "4          NaN         NaN         NaN         NaN         NaN   \n",
       "5          NaN         NaN         NaN         NaN         NaN   \n",
       "6   235.200000  237.557143  231.135714  234.414286  234.307143   \n",
       "7   235.750000  238.028571  231.607143  234.700000  234.492857   \n",
       "8   235.550000  238.200000  231.485714  235.071429  234.971429   \n",
       "9   233.185714  237.728571  230.171429  234.928571  234.928571   \n",
       "10  230.764286  235.864286  227.407143  232.842857  233.007143   \n",
       "11  229.185714  233.892857  225.135714  230.321429  230.535714   \n",
       "12  227.400000  233.628571  224.092857  228.507143  228.735714   \n",
       "13  225.264286  231.814286  222.042857  226.871429  227.028571   \n",
       "14  223.278571  229.778571  219.857143  224.792857  225.028571   \n",
       "15  221.685714  227.864286  217.707143  222.750000  223.000000   \n",
       "16  223.792857  228.078571  217.607143  221.242857  221.535714   \n",
       "17  226.600000  230.914286  220.807143  223.414286  223.542857   \n",
       "18  228.671429  232.964286  223.392857  226.028571  226.157143   \n",
       "19  230.507143  233.271429  225.028571  228.350000  228.157143   \n",
       "\n",
       "    Total Trade Quantity  Turnover (Lacs)  \n",
       "0                    NaN              NaN  \n",
       "1                    NaN              NaN  \n",
       "2                    NaN              NaN  \n",
       "3                    NaN              NaN  \n",
       "4                    NaN              NaN  \n",
       "5                    NaN              NaN  \n",
       "6           3.274848e+06      7652.388571  \n",
       "7           3.209831e+06      7509.724286  \n",
       "8           2.936693e+06      6879.075714  \n",
       "9           3.527693e+06      8241.347143  \n",
       "10          3.845060e+06      8883.934286  \n",
       "11          3.857272e+06      8846.257143  \n",
       "12          4.159956e+06      9494.928571  \n",
       "13          4.141448e+06      9429.222857  \n",
       "14          4.016310e+06      9099.654286  \n",
       "15          3.995196e+06      8989.585714  \n",
       "16          3.591903e+06      8043.774286  \n",
       "17          3.687891e+06      8406.114286  \n",
       "18          3.665725e+06      8431.457143  \n",
       "19          2.866757e+06      6629.497143  "
      ]
     },
     "execution_count": 15,
     "metadata": {},
     "output_type": "execute_result"
    }
   ],
   "source": [
    "#7 days rolling mean of our stock\n",
    "#first 20 data will show\n",
    "dataset.rolling(7).mean().head(20)"
   ]
  },
  {
   "cell_type": "code",
   "execution_count": 20,
   "metadata": {},
   "outputs": [
    {
     "data": {
      "text/plain": [
       "<AxesSubplot:>"
      ]
     },
     "execution_count": 20,
     "metadata": {},
     "output_type": "execute_result"
    },
    {
     "data": {
      "image/png": "[encoded data removed]",
      "text/plain": [
       "<Figure size 1152x432 with 1 Axes>"
      ]
     },
     "metadata": {
      "needs_background": "light"
     },
     "output_type": "display_data"
    }
   ],
   "source": [
    "#rolling mean in \"orange\" and a previous graph in \"blue\"\n",
    "#basically gives the moving average of past 30 days\n",
    "dataset['Open'].plot(figsize=(16,6))\n",
    "dataset.rolling(window=30).mean()['Close'].plot()"
   ]
  },
  {
   "cell_type": "code",
   "execution_count": 22,
   "metadata": {},
   "outputs": [
    {
     "data": {
      "text/plain": [
       "<AxesSubplot:>"
      ]
     },
     "execution_count": 22,
     "metadata": {},
     "output_type": "execute_result"
    },
    {
     "data": {
      "image/png": "[encoded data removed]",
      "text/plain": [
       "<Figure size 1152x432 with 1 Axes>"
      ]
     },
     "metadata": {
      "needs_background": "light"
     },
     "output_type": "display_data"
    }
   ],
   "source": [
    "#plot the closed column VS the seven day moving averageof the closed column\n",
    "dataset['Close: 30 days mean']=dataset['Close'].rolling(window=30).mean()\n",
    "dataset[['Close','Close: 30 days mean']].plot(figsize=(16,6))\n",
    "#blue line: close price column\n",
    "#orange line: 30 days rolling mean "
   ]
  },
  {
   "cell_type": "code",
   "execution_count": 26,
   "metadata": {},
   "outputs": [
    {
     "data": {
      "text/plain": [
       "<AxesSubplot:>"
      ]
     },
     "execution_count": 26,
     "metadata": {},
     "output_type": "execute_result"
    },
    {
     "data": {
      "image/png": "[encoded data removed]",
      "text/plain": [
       "<Figure size 1152x432 with 1 Axes>"
      ]
     },
     "metadata": {
      "needs_background": "light"
     },
     "output_type": "display_data"
    }
   ],
   "source": [
    "#specify a minimum number of periods\n",
    "#min no of observation per window which is of 30 days\n",
    "dataset['Close'].expanding(min_periods=1).mean().plot(figsize=(16,6))"
   ]
  },
  {
   "cell_type": "code",
   "execution_count": 28,
   "metadata": {},
   "outputs": [],
   "source": [
    "#first DataFrame : Training set\n",
    "training_set=dataset['Open']\n",
    "training_set=pd.DataFrame(training_set)"
   ]
  },
  {
   "cell_type": "raw",
   "metadata": {},
   "source": [
    "# STAGE 2: PRE PROCESSING STAGE: Involves Data discretization, data transformation,data cleaning,data integration."
   ]
  },
  {
   "cell_type": "code",
   "execution_count": 29,
   "metadata": {},
   "outputs": [
    {
     "data": {
      "text/plain": [
       "Date                    False\n",
       "Open                    False\n",
       "High                    False\n",
       "Low                     False\n",
       "Last                    False\n",
       "Close                   False\n",
       "Total Trade Quantity    False\n",
       "Turnover (Lacs)         False\n",
       "Close: 30 days mean      True\n",
       "dtype: bool"
      ]
     },
     "execution_count": 29,
     "metadata": {},
     "output_type": "execute_result"
    }
   ],
   "source": [
    "#data cleaning\n",
    "dataset.isna().any()"
   ]
  },
  {
   "cell_type": "code",
   "execution_count": 31,
   "metadata": {},
   "outputs": [],
   "source": [
    "#feature scaling from scikit-learn library\n",
    "#MinMaxScaler: to transform feature by scaling each of them to set range.\n",
    "from sklearn.preprocessing import MinMaxScaler\n",
    "sc = MinMaxScaler(feature_range=(0,1))\n",
    "training_set_scaled = sc.fit_transform(training_set)\n"
   ]
  },
  {
   "cell_type": "code",
   "execution_count": 34,
   "metadata": {},
   "outputs": [],
   "source": [
    "#creating a DS with 60 timesteps and 1 output\n",
    "X_train=[]\n",
    "y_train=[]\n",
    "for i in range(60,1258):\n",
    "    X_train.append(training_set_scaled[i-60:i,0])\n",
    "    y_train.append(training_set_scaled[i,0])\n",
    "X_train,y_train = np.array(X_train),np.array(y_train)"
   ]
  },
  {
   "cell_type": "code",
   "execution_count": 37,
   "metadata": {},
   "outputs": [],
   "source": [
    "#reshaping \n",
    "X_train = np.reshape(X_train,(X_train.shape[0], X_train.shape[1],1))"
   ]
  },
  {
   "cell_type": "raw",
   "metadata": {},
   "source": [
    "# STAGE 3: FEATURE EXTRACTION"
   ]
  },
  {
   "cell_type": "code",
   "execution_count": 39,
   "metadata": {},
   "outputs": [],
   "source": [
    "#importing keras libraries\n",
    "from keras.models import Sequential\n",
    "from keras.layers import Dense      \n",
    "from keras.layers import LSTM\n",
    "from keras.layers import Dropout"
   ]
  },
  {
   "cell_type": "code",
   "execution_count": 41,
   "metadata": {},
   "outputs": [],
   "source": [
    "#for time series data we need regressor \n",
    "regressor = Sequential()"
   ]
  },
  {
   "cell_type": "raw",
   "metadata": {},
   "source": [
    "# STAGE 4: TRAINING NEURAL NETWORK"
   ]
  },
  {
   "cell_type": "code",
   "execution_count": 44,
   "metadata": {},
   "outputs": [],
   "source": [
    "#adding the 1st LSTM layer and some Dropout regularisation\n",
    "regressor.add(LSTM(units = 50, return_sequences= True, input_shape = (X_train.shape[1],1)))\n",
    "regressor.add(Dropout(0.2))\n",
    "#dropout technique used for reducing overfitting in neural networks\n",
    "\n",
    "#adding the 2nd LSTM layer and some Dropout regularisation\n",
    "regressor.add(LSTM(units = 50, return_sequences= True))\n",
    "regressor.add(Dropout(0.2))\n",
    "\n",
    "#adding the 3rd LSTM layer and some Dropout regularisation\n",
    "regressor.add(LSTM(units = 50, return_sequences= True))\n",
    "regressor.add(Dropout(0.2))\n",
    "\n",
    "#adding the 4th LSTM layer and some Dropout regularisation\n",
    "regressor.add(LSTM(units = 50))\n",
    "regressor.add(Dropout(0.2))\n",
    "\n",
    "#adding the output layer\n",
    "regressor.add(Dense(units = 1))"
   ]
  },
  {
   "cell_type": "code",
   "execution_count": 45,
   "metadata": {},
   "outputs": [
    {
     "name": "stdout",
     "output_type": "stream",
     "text": [
      "Epoch 1/100\n",
      "38/38 [==============================] - 17s 140ms/step - loss: 0.0242\n",
      "Epoch 2/100\n",
      "38/38 [==============================] - 5s 139ms/step - loss: 0.0045\n",
      "Epoch 3/100\n",
      "38/38 [==============================] - 5s 139ms/step - loss: 0.0043\n",
      "Epoch 4/100\n",
      "38/38 [==============================] - 5s 139ms/step - loss: 0.0039\n",
      "Epoch 5/100\n",
      "38/38 [==============================] - 5s 139ms/step - loss: 0.0035\n",
      "Epoch 6/100\n",
      "38/38 [==============================] - 5s 138ms/step - loss: 0.0037\n",
      "Epoch 7/100\n",
      "38/38 [==============================] - 5s 139ms/step - loss: 0.0035\n",
      "Epoch 8/100\n",
      "38/38 [==============================] - 5s 138ms/step - loss: 0.0033\n",
      "Epoch 9/100\n",
      "38/38 [==============================] - 5s 139ms/step - loss: 0.0030\n",
      "Epoch 10/100\n",
      "38/38 [==============================] - 5s 139ms/step - loss: 0.0030\n",
      "Epoch 11/100\n",
      "38/38 [==============================] - 5s 140ms/step - loss: 0.0031\n",
      "Epoch 12/100\n",
      "38/38 [==============================] - 5s 139ms/step - loss: 0.0028\n",
      "Epoch 13/100\n",
      "38/38 [==============================] - 5s 140ms/step - loss: 0.0026\n",
      "Epoch 14/100\n",
      "38/38 [==============================] - 5s 140ms/step - loss: 0.0030\n",
      "Epoch 15/100\n",
      "38/38 [==============================] - 5s 141ms/step - loss: 0.0026\n",
      "Epoch 16/100\n",
      "38/38 [==============================] - 5s 138ms/step - loss: 0.0026\n",
      "Epoch 17/100\n",
      "38/38 [==============================] - 5s 142ms/step - loss: 0.0024\n",
      "Epoch 18/100\n",
      "38/38 [==============================] - 5s 137ms/step - loss: 0.0026\n",
      "Epoch 19/100\n",
      "38/38 [==============================] - 5s 137ms/step - loss: 0.0023\n",
      "Epoch 20/100\n",
      "38/38 [==============================] - 5s 137ms/step - loss: 0.0023\n",
      "Epoch 21/100\n",
      "38/38 [==============================] - 5s 138ms/step - loss: 0.0021\n",
      "Epoch 22/100\n",
      "38/38 [==============================] - 5s 137ms/step - loss: 0.0026\n",
      "Epoch 23/100\n",
      "38/38 [==============================] - 5s 141ms/step - loss: 0.0020\n",
      "Epoch 24/100\n",
      "38/38 [==============================] - 5s 139ms/step - loss: 0.0027\n",
      "Epoch 25/100\n",
      "38/38 [==============================] - 5s 138ms/step - loss: 0.0023\n",
      "Epoch 26/100\n",
      "38/38 [==============================] - 5s 137ms/step - loss: 0.0021\n",
      "Epoch 27/100\n",
      "38/38 [==============================] - 5s 137ms/step - loss: 0.0018\n",
      "Epoch 28/100\n",
      "38/38 [==============================] - 5s 137ms/step - loss: 0.0019\n",
      "Epoch 29/100\n",
      "38/38 [==============================] - 5s 136ms/step - loss: 0.0019\n",
      "Epoch 30/100\n",
      "38/38 [==============================] - 5s 137ms/step - loss: 0.0018\n",
      "Epoch 31/100\n",
      "38/38 [==============================] - 5s 138ms/step - loss: 0.0019\n",
      "Epoch 32/100\n",
      "38/38 [==============================] - 5s 137ms/step - loss: 0.0017\n",
      "Epoch 33/100\n",
      "38/38 [==============================] - 5s 137ms/step - loss: 0.0019\n",
      "Epoch 34/100\n",
      "38/38 [==============================] - 5s 136ms/step - loss: 0.0018\n",
      "Epoch 35/100\n",
      "38/38 [==============================] - 5s 137ms/step - loss: 0.0018\n",
      "Epoch 36/100\n",
      "38/38 [==============================] - 5s 136ms/step - loss: 0.0018\n",
      "Epoch 37/100\n",
      "38/38 [==============================] - 5s 136ms/step - loss: 0.0018\n",
      "Epoch 38/100\n",
      "38/38 [==============================] - 5s 136ms/step - loss: 0.0019\n",
      "Epoch 39/100\n",
      "38/38 [==============================] - 5s 136ms/step - loss: 0.0018\n",
      "Epoch 40/100\n",
      "38/38 [==============================] - 5s 137ms/step - loss: 0.0017\n",
      "Epoch 41/100\n",
      "38/38 [==============================] - 5s 138ms/step - loss: 0.0016\n",
      "Epoch 42/100\n",
      "38/38 [==============================] - 5s 137ms/step - loss: 0.0018\n",
      "Epoch 43/100\n",
      "38/38 [==============================] - 5s 136ms/step - loss: 0.0015\n",
      "Epoch 44/100\n",
      "38/38 [==============================] - 5s 136ms/step - loss: 0.0015\n",
      "Epoch 45/100\n",
      "38/38 [==============================] - 5s 136ms/step - loss: 0.0014\n",
      "Epoch 46/100\n",
      "38/38 [==============================] - 5s 136ms/step - loss: 0.0016\n",
      "Epoch 47/100\n",
      "38/38 [==============================] - 5s 136ms/step - loss: 0.0014\n",
      "Epoch 48/100\n",
      "38/38 [==============================] - 5s 136ms/step - loss: 0.0015\n",
      "Epoch 49/100\n",
      "38/38 [==============================] - 5s 136ms/step - loss: 0.0014\n",
      "Epoch 50/100\n",
      "38/38 [==============================] - 5s 136ms/step - loss: 0.0015\n",
      "Epoch 51/100\n",
      "38/38 [==============================] - 5s 136ms/step - loss: 0.0014\n",
      "Epoch 52/100\n",
      "38/38 [==============================] - 5s 137ms/step - loss: 0.0013\n",
      "Epoch 53/100\n",
      "38/38 [==============================] - 5s 136ms/step - loss: 0.0013\n",
      "Epoch 54/100\n",
      "38/38 [==============================] - 5s 137ms/step - loss: 0.0015\n",
      "Epoch 55/100\n",
      "38/38 [==============================] - 5s 137ms/step - loss: 0.0015\n",
      "Epoch 56/100\n",
      "38/38 [==============================] - 5s 136ms/step - loss: 0.0014\n",
      "Epoch 57/100\n",
      "38/38 [==============================] - 5s 136ms/step - loss: 0.0013\n",
      "Epoch 58/100\n",
      "38/38 [==============================] - 5s 136ms/step - loss: 0.0012\n",
      "Epoch 59/100\n",
      "38/38 [==============================] - 5s 136ms/step - loss: 0.0012\n",
      "Epoch 60/100\n",
      "38/38 [==============================] - 5s 136ms/step - loss: 0.0014\n",
      "Epoch 61/100\n",
      "38/38 [==============================] - 5s 136ms/step - loss: 0.0015\n",
      "Epoch 62/100\n",
      "38/38 [==============================] - 5s 137ms/step - loss: 0.0015\n",
      "Epoch 63/100\n",
      "38/38 [==============================] - 5s 136ms/step - loss: 0.0014\n",
      "Epoch 64/100\n",
      "38/38 [==============================] - 5s 136ms/step - loss: 0.0013\n",
      "Epoch 65/100\n",
      "38/38 [==============================] - 5s 135ms/step - loss: 0.0014\n",
      "Epoch 66/100\n",
      "38/38 [==============================] - 5s 136ms/step - loss: 0.0013\n",
      "Epoch 67/100\n",
      "38/38 [==============================] - 5s 136ms/step - loss: 0.0010\n",
      "Epoch 68/100\n",
      "38/38 [==============================] - 5s 136ms/step - loss: 0.0013\n",
      "Epoch 69/100\n",
      "38/38 [==============================] - 5s 138ms/step - loss: 0.0012\n",
      "Epoch 70/100\n",
      "38/38 [==============================] - 5s 137ms/step - loss: 0.0011\n",
      "Epoch 71/100\n",
      "38/38 [==============================] - 6s 148ms/step - loss: 0.0011\n",
      "Epoch 72/100\n",
      "38/38 [==============================] - 6s 151ms/step - loss: 0.0012\n",
      "Epoch 73/100\n",
      "38/38 [==============================] - 6s 147ms/step - loss: 0.0012\n",
      "Epoch 74/100\n",
      "38/38 [==============================] - 6s 146ms/step - loss: 0.0011\n",
      "Epoch 75/100\n",
      "38/38 [==============================] - 5s 141ms/step - loss: 0.0011\n",
      "Epoch 76/100\n",
      "38/38 [==============================] - 5s 140ms/step - loss: 0.0011\n",
      "Epoch 77/100\n",
      "38/38 [==============================] - 5s 137ms/step - loss: 9.5976e-04\n",
      "Epoch 78/100\n",
      "38/38 [==============================] - 5s 144ms/step - loss: 0.0011\n",
      "Epoch 79/100\n",
      "38/38 [==============================] - 5s 142ms/step - loss: 0.0012\n",
      "Epoch 80/100\n",
      "38/38 [==============================] - 6s 151ms/step - loss: 0.0013\n",
      "Epoch 81/100\n",
      "38/38 [==============================] - 6s 153ms/step - loss: 0.0010\n",
      "Epoch 82/100\n",
      "38/38 [==============================] - 6s 147ms/step - loss: 8.6775e-04\n",
      "Epoch 83/100\n",
      "38/38 [==============================] - 6s 145ms/step - loss: 9.8587e-04\n",
      "Epoch 84/100\n",
      "38/38 [==============================] - 6s 165ms/step - loss: 9.7048e-04\n",
      "Epoch 85/100\n",
      "38/38 [==============================] - 6s 145ms/step - loss: 0.0011\n",
      "Epoch 86/100\n",
      "38/38 [==============================] - 6s 153ms/step - loss: 9.4266e-04\n",
      "Epoch 87/100\n",
      "38/38 [==============================] - 6s 163ms/step - loss: 9.1842e-04\n",
      "Epoch 88/100\n",
      "38/38 [==============================] - 6s 146ms/step - loss: 8.2354e-04\n",
      "Epoch 89/100\n",
      "38/38 [==============================] - 6s 151ms/step - loss: 9.3359e-04\n",
      "Epoch 90/100\n",
      "38/38 [==============================] - 5s 136ms/step - loss: 0.0010\n",
      "Epoch 91/100\n",
      "38/38 [==============================] - 5s 134ms/step - loss: 9.8534e-04\n",
      "Epoch 92/100\n",
      "38/38 [==============================] - 5s 142ms/step - loss: 0.0010\n",
      "Epoch 93/100\n",
      "38/38 [==============================] - 5s 141ms/step - loss: 9.4191e-04\n",
      "Epoch 94/100\n",
      "38/38 [==============================] - 5s 138ms/step - loss: 0.0011\n",
      "Epoch 95/100\n",
      "38/38 [==============================] - 5s 138ms/step - loss: 9.8719e-04\n",
      "Epoch 96/100\n",
      "38/38 [==============================] - 5s 138ms/step - loss: 0.0010\n",
      "Epoch 97/100\n",
      "38/38 [==============================] - 5s 137ms/step - loss: 8.4105e-04\n",
      "Epoch 98/100\n",
      "38/38 [==============================] - 5s 136ms/step - loss: 0.0011\n",
      "Epoch 99/100\n",
      "38/38 [==============================] - 5s 143ms/step - loss: 0.0011\n",
      "Epoch 100/100\n",
      "38/38 [==============================] - 6s 146ms/step - loss: 8.3960e-04\n"
     ]
    },
    {
     "data": {
      "text/plain": [
       "<keras.callbacks.History at 0x15d3920de50>"
      ]
     },
     "execution_count": 45,
     "metadata": {},
     "output_type": "execute_result"
    }
   ],
   "source": [
    "#compilling the RNN\n",
    "regressor.compile(optimizer = 'adam', loss = 'mean_squared_error')\n",
    "\n",
    "#fitting the RNN to the train test\n",
    "#epochs= frame of time in machine learning, indicated the number of passes through the entire traing dataset\n",
    "regressor.fit(X_train,y_train, epochs=100,batch_size=32)"
   ]
  },
  {
   "cell_type": "raw",
   "metadata": {},
   "source": [
    "# STAGE 5: VISUALIZATION"
   ]
  },
  {
   "cell_type": "code",
   "execution_count": 52,
   "metadata": {},
   "outputs": [],
   "source": [
    "#making the prediction and visulising the results\n",
    "\n",
    "#getting the real stock price\n",
    "dataset_test = pd.read_csv(\"https://raw.githubusercontent.com/mwitiderrick/stockprice/master/NSE-TATAGLOBAL.csv\", index_col=\"Date\",parse_dates=True)"
   ]
  },
  {
   "cell_type": "code",
   "execution_count": 54,
   "metadata": {},
   "outputs": [],
   "source": [
    "real_stock_price = dataset_test.iloc[:, 1:2].values"
   ]
  },
  {
   "cell_type": "code",
   "execution_count": 56,
   "metadata": {},
   "outputs": [
    {
     "data": {
      "text/html": [
       "<div>\n",
       "<style scoped>\n",
       "    .dataframe tbody tr th:only-of-type {\n",
       "        vertical-align: middle;\n",
       "    }\n",
       "\n",
       "    .dataframe tbody tr th {\n",
       "        vertical-align: top;\n",
       "    }\n",
       "\n",
       "    .dataframe thead th {\n",
       "        text-align: right;\n",
       "    }\n",
       "</style>\n",
       "<table border=\"1\" class=\"dataframe\">\n",
       "  <thead>\n",
       "    <tr style=\"text-align: right;\">\n",
       "      <th></th>\n",
       "      <th>Open</th>\n",
       "      <th>High</th>\n",
       "      <th>Low</th>\n",
       "      <th>Last</th>\n",
       "      <th>Close</th>\n",
       "      <th>Total Trade Quantity</th>\n",
       "      <th>Turnover (Lacs)</th>\n",
       "    </tr>\n",
       "    <tr>\n",
       "      <th>Date</th>\n",
       "      <th></th>\n",
       "      <th></th>\n",
       "      <th></th>\n",
       "      <th></th>\n",
       "      <th></th>\n",
       "      <th></th>\n",
       "      <th></th>\n",
       "    </tr>\n",
       "  </thead>\n",
       "  <tbody>\n",
       "    <tr>\n",
       "      <th>2018-09-28</th>\n",
       "      <td>234.05</td>\n",
       "      <td>235.95</td>\n",
       "      <td>230.20</td>\n",
       "      <td>233.50</td>\n",
       "      <td>233.75</td>\n",
       "      <td>3069914</td>\n",
       "      <td>7162.35</td>\n",
       "    </tr>\n",
       "    <tr>\n",
       "      <th>2018-09-27</th>\n",
       "      <td>234.55</td>\n",
       "      <td>236.80</td>\n",
       "      <td>231.10</td>\n",
       "      <td>233.80</td>\n",
       "      <td>233.25</td>\n",
       "      <td>5082859</td>\n",
       "      <td>11859.95</td>\n",
       "    </tr>\n",
       "    <tr>\n",
       "      <th>2018-09-26</th>\n",
       "      <td>240.00</td>\n",
       "      <td>240.00</td>\n",
       "      <td>232.50</td>\n",
       "      <td>235.00</td>\n",
       "      <td>234.25</td>\n",
       "      <td>2240909</td>\n",
       "      <td>5248.60</td>\n",
       "    </tr>\n",
       "    <tr>\n",
       "      <th>2018-09-25</th>\n",
       "      <td>233.30</td>\n",
       "      <td>236.75</td>\n",
       "      <td>232.00</td>\n",
       "      <td>236.25</td>\n",
       "      <td>236.10</td>\n",
       "      <td>2349368</td>\n",
       "      <td>5503.90</td>\n",
       "    </tr>\n",
       "    <tr>\n",
       "      <th>2018-09-24</th>\n",
       "      <td>233.55</td>\n",
       "      <td>239.20</td>\n",
       "      <td>230.75</td>\n",
       "      <td>234.00</td>\n",
       "      <td>233.30</td>\n",
       "      <td>3423509</td>\n",
       "      <td>7999.55</td>\n",
       "    </tr>\n",
       "  </tbody>\n",
       "</table>\n",
       "</div>"
      ],
      "text/plain": [
       "              Open    High     Low    Last   Close  Total Trade Quantity  \\\n",
       "Date                                                                       \n",
       "2018-09-28  234.05  235.95  230.20  233.50  233.75               3069914   \n",
       "2018-09-27  234.55  236.80  231.10  233.80  233.25               5082859   \n",
       "2018-09-26  240.00  240.00  232.50  235.00  234.25               2240909   \n",
       "2018-09-25  233.30  236.75  232.00  236.25  236.10               2349368   \n",
       "2018-09-24  233.55  239.20  230.75  234.00  233.30               3423509   \n",
       "\n",
       "            Turnover (Lacs)  \n",
       "Date                         \n",
       "2018-09-28          7162.35  \n",
       "2018-09-27         11859.95  \n",
       "2018-09-26          5248.60  \n",
       "2018-09-25          5503.90  \n",
       "2018-09-24          7999.55  "
      ]
     },
     "execution_count": 56,
     "metadata": {},
     "output_type": "execute_result"
    }
   ],
   "source": [
    "dataset_test.head()"
   ]
  },
  {
   "cell_type": "code",
   "execution_count": 58,
   "metadata": {},
   "outputs": [
    {
     "name": "stdout",
     "output_type": "stream",
     "text": [
      "<class 'pandas.core.frame.DataFrame'>\n",
      "DatetimeIndex: 2035 entries, 2018-09-28 to 2010-07-21\n",
      "Data columns (total 7 columns):\n",
      " #   Column                Non-Null Count  Dtype  \n",
      "---  ------                --------------  -----  \n",
      " 0   Open                  2035 non-null   float64\n",
      " 1   High                  2035 non-null   float64\n",
      " 2   Low                   2035 non-null   float64\n",
      " 3   Last                  2035 non-null   float64\n",
      " 4   Close                 2035 non-null   float64\n",
      " 5   Total Trade Quantity  2035 non-null   int64  \n",
      " 6   Turnover (Lacs)       2035 non-null   float64\n",
      "dtypes: float64(6), int64(1)\n",
      "memory usage: 127.2 KB\n"
     ]
    }
   ],
   "source": [
    "dataset_test.info()"
   ]
  },
  {
   "cell_type": "code",
   "execution_count": 60,
   "metadata": {},
   "outputs": [],
   "source": [
    "test_set=dataset_test['Open']\n",
    "test_set=pd.DataFrame(test_set)"
   ]
  },
  {
   "cell_type": "code",
   "execution_count": 62,
   "metadata": {},
   "outputs": [
    {
     "name": "stdout",
     "output_type": "stream",
     "text": [
      "<class 'pandas.core.frame.DataFrame'>\n",
      "DatetimeIndex: 2035 entries, 2018-09-28 to 2010-07-21\n",
      "Data columns (total 1 columns):\n",
      " #   Column  Non-Null Count  Dtype  \n",
      "---  ------  --------------  -----  \n",
      " 0   Open    2035 non-null   float64\n",
      "dtypes: float64(1)\n",
      "memory usage: 31.8 KB\n"
     ]
    }
   ],
   "source": [
    "test_set.info()"
   ]
  },
  {
   "cell_type": "code",
   "execution_count": 65,
   "metadata": {},
   "outputs": [],
   "source": [
    "#getting the predicted stock price \n",
    "dataset_total = pd.concat((dataset['Open'], dataset_test['Open']), axis=0)\n",
    "inputs = dataset_total[len(dataset_total)-len(dataset_test)-60:].values\n",
    "inputs = inputs.reshape(-1,1)\n",
    "inputs = sc.transform(inputs)\n",
    "X_test = []\n",
    "for i in range(60,80):\n",
    "    X_test.append(inputs[i-60:i,0])\n",
    "X_test = np.array(X_test)\n",
    "X_test = np.reshape(X_test,(X_test.shape[0],X_test.shape[1],1))\n",
    "predicted_stock_price = regressor.predict(X_test)\n",
    "predicted_stock_price = sc.inverse_transform(predicted_stock_price)"
   ]
  },
  {
   "cell_type": "code",
   "execution_count": 67,
   "metadata": {},
   "outputs": [
    {
     "name": "stdout",
     "output_type": "stream",
     "text": [
      "<class 'pandas.core.frame.DataFrame'>\n",
      "RangeIndex: 20 entries, 0 to 19\n",
      "Data columns (total 1 columns):\n",
      " #   Column  Non-Null Count  Dtype  \n",
      "---  ------  --------------  -----  \n",
      " 0   0       20 non-null     float32\n",
      "dtypes: float32(1)\n",
      "memory usage: 208.0 bytes\n"
     ]
    }
   ],
   "source": [
    "predicted_stock_price = pd.DataFrame(predicted_stock_price)\n",
    "predicted_stock_price.info()"
   ]
  },
  {
   "cell_type": "code",
   "execution_count": 69,
   "metadata": {},
   "outputs": [
    {
     "data": {
      "image/png": "[encoded data removed]",
      "text/plain": [
       "<Figure size 432x288 with 1 Axes>"
      ]
     },
     "metadata": {
      "needs_background": "light"
     },
     "output_type": "display_data"
    }
   ],
   "source": [
    "#visulising the data\n",
    "plt.plot(real_stock_price, color='red',label='TATA Global stock price')\n",
    "plt.plot(predicted_stock_price, color='blue', label='predicted_stock_price')\n",
    "plt.title('TATA Global Stock price')\n",
    "plt.xlabel('time')\n",
    "plt.ylabel('stock price')\n",
    "plt.legend()\n",
    "plt.show()"
   ]
  }
 ],
 "metadata": {
  "kernelspec": {
   "display_name": "Python 3",
   "language": "python",
   "name": "python3"
  },
  "language_info": {
   "codemirror_mode": {
    "name": "ipython",
    "version": 3
   },
   "file_extension": ".py",
   "mimetype": "text/x-python",
   "name": "python",
   "nbconvert_exporter": "python",
   "pygments_lexer": "ipython3",
   "version": "3.7.6"
  }
 },
 "nbformat": 4,
 "nbformat_minor": 5
}
